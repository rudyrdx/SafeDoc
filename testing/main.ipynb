{
 "cells": [
  {
   "cell_type": "code",
   "execution_count": 26,
   "metadata": {},
   "outputs": [],
   "source": [
    "import requests\n",
    "\n",
    "# data = {\n",
    "# \t\"sender\": \"3\",\n",
    "# \t\"receiver\" : \"1\",\n",
    "# \t\"document\" : \"688787d8ff144c502c7f5cffaafe2cc588d86079f9de88304c26b0cb99ce91c6\"\n",
    "# }\n",
    "# #create a post request\n",
    "# r = requests.post('http://localhost:3000/transaction', json=data)\n",
    "\n",
    "# response = r.json()\n",
    "\n",
    "# if response['message'] == \"transaction successful\":\n",
    "#     print(\"Transaction successful\")\n",
    "# else:\n",
    "#     print(\"Transaction failed\")\n",
    "\n",
    "data = {}\n",
    "r = requests.get('http://localhost:3000/')\n",
    "data = r.json()"
   ]
  },
  {
   "cell_type": "code",
   "execution_count": 55,
   "metadata": {},
   "outputs": [
    {
     "name": "stdout",
     "output_type": "stream",
     "text": [
      "[{'data': '688787d8ff144c502c7f5cffaafe2cc588d86079f9de88304c26b0cb99ce91c6', 'receiver': '2', 'sender': '1'}, {'data': '688787d8ff144c502c7f5cffaafe2cc588d86079f9de88304c26b0cb99ce91c6', 'receiver': '3', 'sender': '1'}, {'data': '688787d8ff144c502c7f5cffaafe2cc588d86079f9de88304c26b0cb99ce91c6', 'receiver': '4', 'sender': '1'}]\n",
      "['2', '3', '4']\n"
     ]
    }
   ],
   "source": [
    "my_id = '1'\n",
    "#get all the transaction of the sender from the data\n",
    "my_transactions = []\n",
    "for transaction in data['chain']:\n",
    "    #print(transaction['transaction'])\n",
    "    # add all the transactions of the sender to the sender_transactions list\n",
    "    if transaction['transaction']['sender'] == my_id:\n",
    "        my_transactions.append(transaction['transaction'])\n",
    "\n",
    "print(my_transactions)\n",
    "# get all the receivers of the sender\n",
    "my_receivers = []\n",
    "for transaction in my_transactions:\n",
    "    my_receivers.append(transaction['receiver'])\n",
    "\n",
    "print(my_receivers)\n"
   ]
  }
 ],
 "metadata": {
  "kernelspec": {
   "display_name": "Python 3.9.7 64-bit",
   "language": "python",
   "name": "python3"
  },
  "language_info": {
   "codemirror_mode": {
    "name": "ipython",
    "version": 3
   },
   "file_extension": ".py",
   "mimetype": "text/x-python",
   "name": "python",
   "nbconvert_exporter": "python",
   "pygments_lexer": "ipython3",
   "version": "3.9.7"
  },
  "orig_nbformat": 4,
  "vscode": {
   "interpreter": {
    "hash": "45f80d09f29d1ba403561eb367dc1803744d300711f8facb72795b2ccb1b21f6"
   }
  }
 },
 "nbformat": 4,
 "nbformat_minor": 2
}
